{
 "cells": [
  {
   "cell_type": "markdown",
   "metadata": {},
   "source": [
    "## <center>News articles classification "
   ]
  },
  {
   "cell_type": "markdown",
   "metadata": {},
   "source": [
    "The data set used in this reseach can be taken on Kaggle.com: https://www.kaggle.com/yutkin/corpus-of-russian-news-articles-from-lenta."
   ]
  },
  {
   "cell_type": "markdown",
   "metadata": {},
   "source": [
    "The news articles represented in the data set belong to several topics, so we have a multiclass classification task. In this research I build Naive Bayes and Linear Support Vector Machine models and decide which one has better performance for this task.\n",
    "\n",
    "\n",
    "The preprocessing pipeline is:\n",
    "* lowercase and tokenize text\n",
    "* remove stopwords\n",
    "* lemmatization."
   ]
  },
  {
   "cell_type": "code",
   "execution_count": 15,
   "metadata": {},
   "outputs": [],
   "source": [
    "import pandas as pd\n",
    "import numpy as np\n",
    "import seaborn as sns\n",
    "import matplotlib.pyplot as plt\n",
    "import nltk\n",
    "import requests\n",
    "import gensim\n",
    "import pymorphy2\n",
    "from sklearn.feature_extraction.text import CountVectorizer, TfidfTransformer\n",
    "from sklearn.model_selection import train_test_split\n",
    "from sklearn.metrics import precision_recall_fscore_support\n",
    "from sklearn.naive_bayes import MultinomialNB\n",
    "from sklearn.svm import LinearSVC\n",
    "from sklearn.model_selection import GridSearchCV "
   ]
  },
  {
   "cell_type": "markdown",
   "metadata": {},
   "source": [
    "## Exploratory data analysis"
   ]
  },
  {
   "cell_type": "code",
   "execution_count": 2,
   "metadata": {},
   "outputs": [],
   "source": [
    "df = pd.read_csv('lenta-ru-news.csv', dtype=str)"
   ]
  },
  {
   "cell_type": "code",
   "execution_count": 3,
   "metadata": {},
   "outputs": [
    {
     "name": "stdout",
     "output_type": "stream",
     "text": [
      "<class 'pandas.core.frame.DataFrame'>\n",
      "RangeIndex: 800975 entries, 0 to 800974\n",
      "Data columns (total 6 columns):\n",
      " #   Column  Non-Null Count   Dtype \n",
      "---  ------  --------------   ----- \n",
      " 0   url     800975 non-null  object\n",
      " 1   title   800975 non-null  object\n",
      " 2   text    800970 non-null  object\n",
      " 3   topic   738973 non-null  object\n",
      " 4   tags    773756 non-null  object\n",
      " 5   date    800975 non-null  object\n",
      "dtypes: object(6)\n",
      "memory usage: 36.7+ MB\n"
     ]
    }
   ],
   "source": [
    "df.info()"
   ]
  },
  {
   "cell_type": "code",
   "execution_count": 4,
   "metadata": {},
   "outputs": [
    {
     "data": {
      "text/html": [
       "<div>\n",
       "<style scoped>\n",
       "    .dataframe tbody tr th:only-of-type {\n",
       "        vertical-align: middle;\n",
       "    }\n",
       "\n",
       "    .dataframe tbody tr th {\n",
       "        vertical-align: top;\n",
       "    }\n",
       "\n",
       "    .dataframe thead th {\n",
       "        text-align: right;\n",
       "    }\n",
       "</style>\n",
       "<table border=\"1\" class=\"dataframe\">\n",
       "  <thead>\n",
       "    <tr style=\"text-align: right;\">\n",
       "      <th></th>\n",
       "      <th>url</th>\n",
       "      <th>title</th>\n",
       "      <th>text</th>\n",
       "      <th>topic</th>\n",
       "      <th>tags</th>\n",
       "      <th>date</th>\n",
       "    </tr>\n",
       "  </thead>\n",
       "  <tbody>\n",
       "    <tr>\n",
       "      <th>0</th>\n",
       "      <td>https://lenta.ru/news/1914/09/16/hungarnn/</td>\n",
       "      <td>1914. Русские войска вступили в пределы Венгрии</td>\n",
       "      <td>Бои у Сопоцкина и Друскеник закончились отступ...</td>\n",
       "      <td>Библиотека</td>\n",
       "      <td>Первая мировая</td>\n",
       "      <td>1914/09/16</td>\n",
       "    </tr>\n",
       "    <tr>\n",
       "      <th>1</th>\n",
       "      <td>https://lenta.ru/news/1914/09/16/lermontov/</td>\n",
       "      <td>1914. Празднование столетия М.Ю. Лермонтова от...</td>\n",
       "      <td>Министерство народного просвещения, в виду про...</td>\n",
       "      <td>Библиотека</td>\n",
       "      <td>Первая мировая</td>\n",
       "      <td>1914/09/16</td>\n",
       "    </tr>\n",
       "    <tr>\n",
       "      <th>2</th>\n",
       "      <td>https://lenta.ru/news/1914/09/17/nesteroff/</td>\n",
       "      <td>1914. Das ist Nesteroff!</td>\n",
       "      <td>Штабс-капитан П. Н. Нестеров на днях, увидев в...</td>\n",
       "      <td>Библиотека</td>\n",
       "      <td>Первая мировая</td>\n",
       "      <td>1914/09/17</td>\n",
       "    </tr>\n",
       "    <tr>\n",
       "      <th>3</th>\n",
       "      <td>https://lenta.ru/news/1914/09/17/bulldogn/</td>\n",
       "      <td>1914. Бульдог-гонец под Льежем</td>\n",
       "      <td>Фотограф-корреспондент Daily Mirror рассказыва...</td>\n",
       "      <td>Библиотека</td>\n",
       "      <td>Первая мировая</td>\n",
       "      <td>1914/09/17</td>\n",
       "    </tr>\n",
       "    <tr>\n",
       "      <th>4</th>\n",
       "      <td>https://lenta.ru/news/1914/09/18/zver/</td>\n",
       "      <td>1914. Под Люблином пойман швабский зверь</td>\n",
       "      <td>Лица, приехавшие в Варшаву из Люблина, передаю...</td>\n",
       "      <td>Библиотека</td>\n",
       "      <td>Первая мировая</td>\n",
       "      <td>1914/09/18</td>\n",
       "    </tr>\n",
       "  </tbody>\n",
       "</table>\n",
       "</div>"
      ],
      "text/plain": [
       "                                           url  \\\n",
       "0   https://lenta.ru/news/1914/09/16/hungarnn/   \n",
       "1  https://lenta.ru/news/1914/09/16/lermontov/   \n",
       "2  https://lenta.ru/news/1914/09/17/nesteroff/   \n",
       "3   https://lenta.ru/news/1914/09/17/bulldogn/   \n",
       "4       https://lenta.ru/news/1914/09/18/zver/   \n",
       "\n",
       "                                               title  \\\n",
       "0  1914. Русские войска вступили в пределы Венгрии     \n",
       "1  1914. Празднование столетия М.Ю. Лермонтова от...   \n",
       "2                           1914. Das ist Nesteroff!   \n",
       "3                    1914. Бульдог-гонец под Льежем    \n",
       "4           1914. Под Люблином пойман швабский зверь   \n",
       "\n",
       "                                                text       topic  \\\n",
       "0  Бои у Сопоцкина и Друскеник закончились отступ...  Библиотека   \n",
       "1  Министерство народного просвещения, в виду про...  Библиотека   \n",
       "2  Штабс-капитан П. Н. Нестеров на днях, увидев в...  Библиотека   \n",
       "3  Фотограф-корреспондент Daily Mirror рассказыва...  Библиотека   \n",
       "4  Лица, приехавшие в Варшаву из Люблина, передаю...  Библиотека   \n",
       "\n",
       "             tags        date  \n",
       "0  Первая мировая  1914/09/16  \n",
       "1  Первая мировая  1914/09/16  \n",
       "2  Первая мировая  1914/09/17  \n",
       "3  Первая мировая  1914/09/17  \n",
       "4  Первая мировая  1914/09/18  "
      ]
     },
     "execution_count": 4,
     "metadata": {},
     "output_type": "execute_result"
    }
   ],
   "source": [
    "df.dropna(subset=['text'], i\\lace=True)\n",
    "df.head()"
   ]
  },
  {
   "cell_type": "code",
   "execution_count": 6,
   "metadata": {},
   "outputs": [],
   "source": [
    "# Let's count the length of text and the number of words for each text \n",
    "df['text_len'] = df['text'].apply(len)\n",
    "df['text_word_count'] = df['text'].apply(lambda x: len(x.split()))"
   ]
  },
  {
   "cell_type": "code",
   "execution_count": 7,
   "metadata": {},
   "outputs": [
    {
     "data": {
      "image/png": "[encoded data removed]",
      "text/plain": [
       "<Figure size 720x432 with 1 Axes>"
      ]
     },
     "metadata": {
      "needs_background": "light"
     },
     "output_type": "display_data"
    }
   ],
   "source": [
    "plt.figure(figsize=(10, 6))\n",
    "ax = sns.countplot(df['topic'])\n",
    "ax.set_xticklabels(ax.get_xticklabels(), rotation=90);"
   ]
  },
  {
   "cell_type": "markdown",
   "metadata": {},
   "source": [
    "As we can see the most popular topic is \"Россия\". It is highly imbalanced feature."
   ]
  },
  {
   "cell_type": "code",
   "execution_count": 8,
   "metadata": {},
   "outputs": [
    {
     "data": {
      "text/plain": [
       "count    800970.000000\n",
       "mean        180.300120\n",
       "std          73.707738\n",
       "min           1.000000\n",
       "25%         133.000000\n",
       "50%         170.000000\n",
       "75%         216.000000\n",
       "max        8092.000000\n",
       "Name: text_word_count, dtype: float64"
      ]
     },
     "execution_count": 8,
     "metadata": {},
     "output_type": "execute_result"
    }
   ],
   "source": [
    "df['text_word_count'].describe()"
   ]
  },
  {
   "cell_type": "markdown",
   "metadata": {},
   "source": [
    "In average the count of words in texts is 180. Most of the news one can read less than for 1 minute. That's good! People don't like reading a long text.<br>\n",
    "Also we can see that maximum count of words is over 8000. That's a lot! In the other hand minimum count is only 1. Let's explore outliers a little more. "
   ]
  },
  {
   "cell_type": "code",
   "execution_count": 9,
   "metadata": {},
   "outputs": [
    {
     "data": {
      "text/html": [
       "<div>\n",
       "<style scoped>\n",
       "    .dataframe tbody tr th:only-of-type {\n",
       "        vertical-align: middle;\n",
       "    }\n",
       "\n",
       "    .dataframe tbody tr th {\n",
       "        vertical-align: top;\n",
       "    }\n",
       "\n",
       "    .dataframe thead th {\n",
       "        text-align: right;\n",
       "    }\n",
       "</style>\n",
       "<table border=\"1\" class=\"dataframe\">\n",
       "  <thead>\n",
       "    <tr style=\"text-align: right;\">\n",
       "      <th></th>\n",
       "      <th>url</th>\n",
       "      <th>title</th>\n",
       "      <th>text</th>\n",
       "      <th>topic</th>\n",
       "      <th>tags</th>\n",
       "      <th>date</th>\n",
       "      <th>text_len</th>\n",
       "      <th>text_word_count</th>\n",
       "    </tr>\n",
       "  </thead>\n",
       "  <tbody>\n",
       "    <tr>\n",
       "      <th>46631</th>\n",
       "      <td>https://lenta.ru/news/2002/03/29/copy/</td>\n",
       "      <td>Американские конгрессмены пытаются ускорить пр...</td>\n",
       "      <td>Wired</td>\n",
       "      <td>Интернет и СМИ</td>\n",
       "      <td>Все</td>\n",
       "      <td>2002/03/29</td>\n",
       "      <td>5</td>\n",
       "      <td>1</td>\n",
       "    </tr>\n",
       "    <tr>\n",
       "      <th>79663</th>\n",
       "      <td>https://lenta.ru/news/2003/10/09/aeroport/</td>\n",
       "      <td>Шереметьево будут управлять авиаторы</td>\n",
       "      <td>\"Ведомости\"</td>\n",
       "      <td>Экономика</td>\n",
       "      <td>Все</td>\n",
       "      <td>2003/10/09</td>\n",
       "      <td>11</td>\n",
       "      <td>1</td>\n",
       "    </tr>\n",
       "    <tr>\n",
       "      <th>82684</th>\n",
       "      <td>https://lenta.ru/news/2003/11/25/concorde/</td>\n",
       "      <td>Новый франко-японский \"Конкорд\" будет летать в...</td>\n",
       "      <td>EADS</td>\n",
       "      <td>Мир</td>\n",
       "      <td>Все</td>\n",
       "      <td>2003/11/25</td>\n",
       "      <td>4</td>\n",
       "      <td>1</td>\n",
       "    </tr>\n",
       "    <tr>\n",
       "      <th>92826</th>\n",
       "      <td>https://lenta.ru/news/2004/05/06/teddybear/</td>\n",
       "      <td>Португалец закрыл аэропорт при помощи плюшевог...</td>\n",
       "      <td>Telegraph</td>\n",
       "      <td>Из жизни</td>\n",
       "      <td>Все</td>\n",
       "      <td>2004/05/06</td>\n",
       "      <td>9</td>\n",
       "      <td>1</td>\n",
       "    </tr>\n",
       "    <tr>\n",
       "      <th>92878</th>\n",
       "      <td>https://lenta.ru/news/2004/05/07/rockets/</td>\n",
       "      <td>На украинских артиллерийских складах огонь под...</td>\n",
       "      <td>ИТАР-ТАСС</td>\n",
       "      <td>Мир</td>\n",
       "      <td>Все</td>\n",
       "      <td>2004/05/07</td>\n",
       "      <td>9</td>\n",
       "      <td>1</td>\n",
       "    </tr>\n",
       "    <tr>\n",
       "      <th>...</th>\n",
       "      <td>...</td>\n",
       "      <td>...</td>\n",
       "      <td>...</td>\n",
       "      <td>...</td>\n",
       "      <td>...</td>\n",
       "      <td>...</td>\n",
       "      <td>...</td>\n",
       "      <td>...</td>\n",
       "    </tr>\n",
       "    <tr>\n",
       "      <th>251577</th>\n",
       "      <td>https://lenta.ru/news/2008/10/22/art/</td>\n",
       "      <td>Джордж Майкл откроет новую художественную галерею</td>\n",
       "      <td>M&amp;C</td>\n",
       "      <td>Культура</td>\n",
       "      <td>Все</td>\n",
       "      <td>2008/10/22</td>\n",
       "      <td>3</td>\n",
       "      <td>1</td>\n",
       "    </tr>\n",
       "    <tr>\n",
       "      <th>252892</th>\n",
       "      <td>https://lenta.ru/news/2008/10/31/vampires/</td>\n",
       "      <td>Ученые проследили эволюцию вампиров</td>\n",
       "      <td>Naturwissenschaften</td>\n",
       "      <td>Наука и техника</td>\n",
       "      <td>Все</td>\n",
       "      <td>2008/10/31</td>\n",
       "      <td>19</td>\n",
       "      <td>1</td>\n",
       "    </tr>\n",
       "    <tr>\n",
       "      <th>253967</th>\n",
       "      <td>https://lenta.ru/news/2008/11/07/plastictube/</td>\n",
       "      <td>Пластиковые пробирки портят результаты опытов</td>\n",
       "      <td>Science</td>\n",
       "      <td>Наука и техника</td>\n",
       "      <td>Все</td>\n",
       "      <td>2008/11/07</td>\n",
       "      <td>7</td>\n",
       "      <td>1</td>\n",
       "    </tr>\n",
       "    <tr>\n",
       "      <th>256352</th>\n",
       "      <td>https://lenta.ru/news/2008/11/24/plasmasound/</td>\n",
       "      <td>Физики узнали как звучал Большой Взрыв</td>\n",
       "      <td>работу</td>\n",
       "      <td>Наука и техника</td>\n",
       "      <td>Все</td>\n",
       "      <td>2008/11/24</td>\n",
       "      <td>6</td>\n",
       "      <td>1</td>\n",
       "    </tr>\n",
       "    <tr>\n",
       "      <th>259532</th>\n",
       "      <td>https://lenta.ru/news/2008/12/11/transparent/</td>\n",
       "      <td>Глубинные слои Земли оказались полупрозрачными</td>\n",
       "      <td>результаты</td>\n",
       "      <td>Наука и техника</td>\n",
       "      <td>Все</td>\n",
       "      <td>2008/12/11</td>\n",
       "      <td>10</td>\n",
       "      <td>1</td>\n",
       "    </tr>\n",
       "  </tbody>\n",
       "</table>\n",
       "<p>582 rows × 8 columns</p>\n",
       "</div>"
      ],
      "text/plain": [
       "                                                  url  \\\n",
       "46631          https://lenta.ru/news/2002/03/29/copy/   \n",
       "79663      https://lenta.ru/news/2003/10/09/aeroport/   \n",
       "82684      https://lenta.ru/news/2003/11/25/concorde/   \n",
       "92826     https://lenta.ru/news/2004/05/06/teddybear/   \n",
       "92878       https://lenta.ru/news/2004/05/07/rockets/   \n",
       "...                                               ...   \n",
       "251577          https://lenta.ru/news/2008/10/22/art/   \n",
       "252892     https://lenta.ru/news/2008/10/31/vampires/   \n",
       "253967  https://lenta.ru/news/2008/11/07/plastictube/   \n",
       "256352  https://lenta.ru/news/2008/11/24/plasmasound/   \n",
       "259532  https://lenta.ru/news/2008/12/11/transparent/   \n",
       "\n",
       "                                                    title  \\\n",
       "46631   Американские конгрессмены пытаются ускорить пр...   \n",
       "79663                Шереметьево будут управлять авиаторы   \n",
       "82684   Новый франко-японский \"Конкорд\" будет летать в...   \n",
       "92826   Португалец закрыл аэропорт при помощи плюшевог...   \n",
       "92878   На украинских артиллерийских складах огонь под...   \n",
       "...                                                   ...   \n",
       "251577  Джордж Майкл откроет новую художественную галерею   \n",
       "252892                Ученые проследили эволюцию вампиров   \n",
       "253967      Пластиковые пробирки портят результаты опытов   \n",
       "256352             Физики узнали как звучал Большой Взрыв   \n",
       "259532     Глубинные слои Земли оказались полупрозрачными   \n",
       "\n",
       "                       text            topic tags        date  text_len  \\\n",
       "46631                 Wired   Интернет и СМИ  Все  2002/03/29         5   \n",
       "79663           \"Ведомости\"        Экономика  Все  2003/10/09        11   \n",
       "82684                  EADS              Мир  Все  2003/11/25         4   \n",
       "92826             Telegraph         Из жизни  Все  2004/05/06         9   \n",
       "92878             ИТАР-ТАСС              Мир  Все  2004/05/07         9   \n",
       "...                     ...              ...  ...         ...       ...   \n",
       "251577                  M&C         Культура  Все  2008/10/22         3   \n",
       "252892  Naturwissenschaften  Наука и техника  Все  2008/10/31        19   \n",
       "253967              Science  Наука и техника  Все  2008/11/07         7   \n",
       "256352               работу  Наука и техника  Все  2008/11/24         6   \n",
       "259532           результаты  Наука и техника  Все  2008/12/11        10   \n",
       "\n",
       "        text_word_count  \n",
       "46631                 1  \n",
       "79663                 1  \n",
       "82684                 1  \n",
       "92826                 1  \n",
       "92878                 1  \n",
       "...                 ...  \n",
       "251577                1  \n",
       "252892                1  \n",
       "253967                1  \n",
       "256352                1  \n",
       "259532                1  \n",
       "\n",
       "[582 rows x 8 columns]"
      ]
     },
     "execution_count": 9,
     "metadata": {},
     "output_type": "execute_result"
    }
   ],
   "source": [
    "df.loc[df['text_word_count']==1]"
   ]
  },
  {
   "cell_type": "markdown",
   "metadata": {},
   "source": [
    "During my investigation I found out that there are plenty of samples in the dataset that contain not full text of topics but just few first words of them. Probably it's data scrapping error. "
   ]
  },
  {
   "cell_type": "code",
   "execution_count": 10,
   "metadata": {},
   "outputs": [
    {
     "data": {
      "text/html": [
       "<div>\n",
       "<style scoped>\n",
       "    .dataframe tbody tr th:only-of-type {\n",
       "        vertical-align: middle;\n",
       "    }\n",
       "\n",
       "    .dataframe tbody tr th {\n",
       "        vertical-align: top;\n",
       "    }\n",
       "\n",
       "    .dataframe thead th {\n",
       "        text-align: right;\n",
       "    }\n",
       "</style>\n",
       "<table border=\"1\" class=\"dataframe\">\n",
       "  <thead>\n",
       "    <tr style=\"text-align: right;\">\n",
       "      <th></th>\n",
       "      <th>url</th>\n",
       "      <th>title</th>\n",
       "      <th>text</th>\n",
       "      <th>topic</th>\n",
       "      <th>tags</th>\n",
       "      <th>date</th>\n",
       "      <th>text_len</th>\n",
       "      <th>text_word_count</th>\n",
       "    </tr>\n",
       "  </thead>\n",
       "  <tbody>\n",
       "    <tr>\n",
       "      <th>84234</th>\n",
       "      <td>https://lenta.ru/news/2003/12/18/president/</td>\n",
       "      <td>Пресс-конференция Владимира Путина. Интернет-т...</td>\n",
       "      <td>18 декабря в 12:00 началась традиционная всеро...</td>\n",
       "      <td>Россия</td>\n",
       "      <td>Все</td>\n",
       "      <td>2003/12/18</td>\n",
       "      <td>55387</td>\n",
       "      <td>8092</td>\n",
       "    </tr>\n",
       "    <tr>\n",
       "      <th>108990</th>\n",
       "      <td>https://lenta.ru/news/2004/12/23/putin1/</td>\n",
       "      <td>Ежегодная пресс-конференция Владимира Путина</td>\n",
       "      <td>Добрый день, уважаемые коллеги. Сегодняшнюю вс...</td>\n",
       "      <td>Россия</td>\n",
       "      <td>Все</td>\n",
       "      <td>2004/12/23</td>\n",
       "      <td>24566</td>\n",
       "      <td>3578</td>\n",
       "    </tr>\n",
       "    <tr>\n",
       "      <th>294877</th>\n",
       "      <td>https://lenta.ru/news/2009/08/13/border/</td>\n",
       "      <td>Россия назвала условия пропуска грузов из Литвы</td>\n",
       "      <td>Представители руководства России и Литвы, кото...</td>\n",
       "      <td>Бывший СССР</td>\n",
       "      <td>Все</td>\n",
       "      <td>2009/08/13</td>\n",
       "      <td>20090</td>\n",
       "      <td>2662</td>\n",
       "    </tr>\n",
       "    <tr>\n",
       "      <th>296495</th>\n",
       "      <td>https://lenta.ru/news/2009/08/27/explain/</td>\n",
       "      <td>Кокойты отказал строителям газопровода в освоб...</td>\n",
       "      <td>Президент Южной Осетии Эдуард Кокойты прокомме...</td>\n",
       "      <td>Бывший СССР</td>\n",
       "      <td>Все</td>\n",
       "      <td>2009/08/27</td>\n",
       "      <td>17642</td>\n",
       "      <td>2306</td>\n",
       "    </tr>\n",
       "    <tr>\n",
       "      <th>307908</th>\n",
       "      <td>https://lenta.ru/news/2009/11/18/prosecutor/</td>\n",
       "      <td>Акаеву гарантировали свободу в случае возвраще...</td>\n",
       "      <td>Бывший президент Киргизии Аскар Акаев не будет...</td>\n",
       "      <td>Бывший СССР</td>\n",
       "      <td>Все</td>\n",
       "      <td>2009/11/18</td>\n",
       "      <td>13934</td>\n",
       "      <td>1954</td>\n",
       "    </tr>\n",
       "  </tbody>\n",
       "</table>\n",
       "</div>"
      ],
      "text/plain": [
       "                                                 url  \\\n",
       "84234    https://lenta.ru/news/2003/12/18/president/   \n",
       "108990      https://lenta.ru/news/2004/12/23/putin1/   \n",
       "294877      https://lenta.ru/news/2009/08/13/border/   \n",
       "296495     https://lenta.ru/news/2009/08/27/explain/   \n",
       "307908  https://lenta.ru/news/2009/11/18/prosecutor/   \n",
       "\n",
       "                                                    title  \\\n",
       "84234   Пресс-конференция Владимира Путина. Интернет-т...   \n",
       "108990       Ежегодная пресс-конференция Владимира Путина   \n",
       "294877    Россия назвала условия пропуска грузов из Литвы   \n",
       "296495  Кокойты отказал строителям газопровода в освоб...   \n",
       "307908  Акаеву гарантировали свободу в случае возвраще...   \n",
       "\n",
       "                                                     text        topic tags  \\\n",
       "84234   18 декабря в 12:00 началась традиционная всеро...       Россия  Все   \n",
       "108990  Добрый день, уважаемые коллеги. Сегодняшнюю вс...       Россия  Все   \n",
       "294877  Представители руководства России и Литвы, кото...  Бывший СССР  Все   \n",
       "296495  Президент Южной Осетии Эдуард Кокойты прокомме...  Бывший СССР  Все   \n",
       "307908  Бывший президент Киргизии Аскар Акаев не будет...  Бывший СССР  Все   \n",
       "\n",
       "              date  text_len  text_word_count  \n",
       "84234   2003/12/18     55387             8092  \n",
       "108990  2004/12/23     24566             3578  \n",
       "294877  2009/08/13     20090             2662  \n",
       "296495  2009/08/27     17642             2306  \n",
       "307908  2009/11/18     13934             1954  "
      ]
     },
     "execution_count": 10,
     "metadata": {},
     "output_type": "execute_result"
    }
   ],
   "source": [
    "df.sort_values('text_word_count', ascending=False).head()"
   ]
  },
  {
   "cell_type": "markdown",
   "metadata": {},
   "source": [
    "It's only one huge topic that consists the press conference with Vladimir Putin in 2003 year. "
   ]
  },
  {
   "cell_type": "markdown",
   "metadata": {},
   "source": [
    "Let's plot distribution for word counts that are beyond 99th percentile. "
   ]
  },
  {
   "cell_type": "code",
   "execution_count": 11,
   "metadata": {},
   "outputs": [
    {
     "data": {
      "image/png": "[encoded data removed]",
      "text/plain": [
       "<Figure size 432x288 with 1 Axes>"
      ]
     },
     "metadata": {
      "needs_background": "light"
     },
     "output_type": "display_data"
    }
   ],
   "source": [
    "text_word_count = df.loc[df['text_word_count'] < df['text_word_count'].quantile(.99), 'text_word_count']\n",
    "text_word_count.hist();"
   ]
  },
  {
   "cell_type": "markdown",
   "metadata": {},
   "source": [
    "So 99% of texts are shorter than 400 words and most of them are about 150 words long. "
   ]
  },
  {
   "cell_type": "markdown",
   "metadata": {},
   "source": [
    "Let's check if the destribution of the feature is normal. We'll use qqplot and normal test from statsmodels package for this."
   ]
  },
  {
   "cell_type": "code",
   "execution_count": 12,
   "metadata": {},
   "outputs": [
    {
     "data": {
      "image/png": "[encoded data removed]",
      "text/plain": [
       "<Figure size 432x288 with 1 Axes>"
      ]
     },
     "metadata": {
      "needs_background": "light"
     },
     "output_type": "display_data"
    }
   ],
   "source": [
    "from statsmodels.graphics.gofplots import qqplot\n",
    "qqplot(text_word_count, line='s')\n",
    "plt.show()"
   ]
  },
  {
   "cell_type": "markdown",
   "metadata": {},
   "source": [
    "qqplot shows that the samples deviate from normal. Double check: "
   ]
  },
  {
   "cell_type": "code",
   "execution_count": 14,
   "metadata": {},
   "outputs": [
    {
     "name": "stdout",
     "output_type": "stream",
     "text": [
      "p = 0.0\n",
      "The null hypothesis can be rejected. Not normal!\n"
     ]
    }
   ],
   "source": [
    "from scipy.stats import normaltest\n",
    "stat, p = normaltest(text_word_count)\n",
    "alpha = 1e-3\n",
    "print(f\"p = {p}\")\n",
    "if p < alpha:  # null hypothesis: x comes from a normal distribution\n",
    "    print(\"The null hypothesis can be rejected. Not normal!\")\n",
    "else:\n",
    "    print(\"The null hypothesis cannot be rejected. It's normal\")"
   ]
  },
  {
   "cell_type": "markdown",
   "metadata": {},
   "source": [
    "<br>Let's see which yeas was the most productive for Lenta.ru"
   ]
  },
  {
   "cell_type": "code",
   "execution_count": 15,
   "metadata": {},
   "outputs": [
    {
     "data": {
      "text/plain": [
       "2016    63107\n",
       "2019    59729\n",
       "2017    58792\n",
       "2009    51343\n",
       "2008    50389\n",
       "2012    46047\n",
       "2011    44822\n",
       "2015    44766\n",
       "2010    44587\n",
       "2018    43951\n",
       "2013    43297\n",
       "2014    38075\n",
       "2007    36029\n",
       "2006    35960\n",
       "2005    30718\n",
       "2004    24386\n",
       "2002    22179\n",
       "2001    21974\n",
       "2003    21557\n",
       "2000    16176\n",
       "1999     3081\n",
       "1914        5\n",
       "Name: date, dtype: int64"
      ]
     },
     "execution_count": 15,
     "metadata": {},
     "output_type": "execute_result"
    }
   ],
   "source": [
    "df['date'].apply(lambda x: x[:4]).value_counts()"
   ]
  },
  {
   "cell_type": "markdown",
   "metadata": {},
   "source": [
    "2016 was rich for news."
   ]
  },
  {
   "cell_type": "markdown",
   "metadata": {},
   "source": [
    "## Modeling "
   ]
  },
  {
   "cell_type": "markdown",
   "metadata": {},
   "source": [
    "Before exctracting the most valuable data from the text let's do some preprocessing:\n",
    "1. We use gensim.utils.simple_preprocess to lowercase and tokenize text. This awesome function remove punctuation and tokens shorter than 2 charecters by default.\n",
    "2. We get rid of the stopwords.\n",
    "3. We use pymorphy2 for lemmatization."
   ]
  },
  {
   "cell_type": "code",
   "execution_count": 5,
   "metadata": {},
   "outputs": [],
   "source": [
    "url_stopwords_ru = \"https://raw.githubusercontent.com/stopwords-iso/stopwords-ru/master/stopwords-ru.txt\"\n",
    "r = requests.get(url_stopwords_ru)\n",
    "if r.ok:\n",
    "    stop_words = r.text.splitlines()\n",
    "else: # short list of stop words from nltk\n",
    "    from nltk.corpus import stopwords\n",
    "    stop_words = stopwords.words(\"russian\")  \n",
    "stop_words = stop_words + ['сообщать', 'сообщает', 'сообщил','заявил', 'подчеркнул', 'напомним'] # these words appear in almost every news"
   ]
  },
  {
   "cell_type": "code",
   "execution_count": 17,
   "metadata": {},
   "outputs": [
    {
     "name": "stdout",
     "output_type": "stream",
     "text": [
      "CPU times: user 2min 44s, sys: 2.82 s, total: 2min 47s\n",
      "Wall time: 2min 47s\n"
     ]
    }
   ],
   "source": [
    "data = df['text'].apply(gensim.utils.simple_preprocess)"
   ]
  },
  {
   "cell_type": "code",
   "execution_count": 51,
   "metadata": {},
   "outputs": [],
   "source": [
    "%%time\n",
    "morph = pymorphy2.MorphAnalyzer()\n",
    "data = data.apply(lambda text: [morph.parse(word)[0].normal_form for word in text])"
   ]
  },
  {
   "cell_type": "code",
   "execution_count": 7,
   "metadata": {},
   "outputs": [],
   "source": [
    "data = data.apply(lambda text: [word for word in text if word not in stop_words and len(word) > 2])"
   ]
  },
  {
   "cell_type": "code",
   "execution_count": 9,
   "metadata": {},
   "outputs": [
    {
     "name": "stdout",
     "output_type": "stream",
     "text": [
      "Original news text: \n",
      "Как сообщает ИТАР-ТАСС, невероятный хаос вызвало в среду в Лондоне одновременноезакрытие девяти станций метро. Станции были закрыты из-за неполадок в системах эскалаторов, которые неожиданное начали останавливаться. Эти остановки оцениваются как одни из наиболее опасных инцидентов в работе метрополитена. Полностью парализованной оказалась самая загруженная - северная - ветка лондонского метро, которым ежедневно пользуются более полумиллиона пассажиров. Инженерные службы в срочном порядке выявляют причину многочисленных аварий и заменяют поврежденные сигнальные кабели. Не исключается возможность саботажа. С перебоями работают также и станции в самом центре Лондона, где скапливаются  огромные толпы народа. Лондонское метро, являющееся одним из старейших в мире, в основном, было построено  в конце прошлого и начале нынешнего века. Возможно, оно уже просто не может удовлетворять  потребности столица Великобритании.\n",
      "Preprocessed text: \n",
      "итар тасс невероятный хаос вызвать среда лондон станция метро станция закрытый неполадка система эскалатор неожиданный останавливаться остановка оцениваться опасный инцидент метрополитен полностью парализовать загрузить северный ветка лондонский метро ежедневно пользоваться полмиллиона пассажир инженерный служба срочный порядок выявлять причина авария заменять повредить сигнальный кабель исключаться возможность саботаж перебой станция центр лондон скапливаться огромный толпа лондонский метро являться основное построить прошлое начало нынешний век возможно удовлетворять потребность столица великобритания\n"
     ]
    }
   ],
   "source": [
    "print(\"Original news text: \")\n",
    "print(df['text'][555])\n",
    "\n",
    "print(\"Preprocessed text: \")\n",
    "print(' '.join(data[555]))"
   ]
  },
  {
   "cell_type": "markdown",
   "metadata": {},
   "source": [
    "<br>Now let's exctract the most valuable data from the text. The logic says the most frequent words are the most valuable. One way to count words is to use the CountVectorizer. Let's count not only individual words but their bigrams. "
   ]
  },
  {
   "cell_type": "code",
   "execution_count": 12,
   "metadata": {},
   "outputs": [
    {
     "name": "stdout",
     "output_type": "stream",
     "text": [
      "The shape of final matrix is  (800970, 21213621)\n"
     ]
    }
   ],
   "source": [
    "vec = CountVectorizer(ngram_range=(1,2))\n",
    "bag_of_words = vec.fit_transform(data.apply(' '.join))\n",
    "print('The shape of final matrix is ', bag_of_words.shape)"
   ]
  },
  {
   "cell_type": "code",
   "execution_count": 13,
   "metadata": {},
   "outputs": [
    {
     "data": {
      "text/plain": [
       "[('россия', 450048),\n",
       " ('заявить', 341655),\n",
       " ('компания', 331034),\n",
       " ('российский', 310669),\n",
       " ('президент', 293928),\n",
       " ('слово', 289348),\n",
       " ('страна', 287987),\n",
       " ('один', 249020),\n",
       " ('доллар', 244874),\n",
       " ('сша', 241036)]"
      ]
     },
     "execution_count": 13,
     "metadata": {},
     "output_type": "execute_result"
    }
   ],
   "source": [
    "sum_words = bag_of_words.sum(axis=0) \n",
    "words_freq = [(word, sum_words[0, idx]) for word, idx in vec.vocabulary_.items()]\n",
    "words_freq =sorted(words_freq, key = lambda x: x[1], reverse=True)\n",
    "words_freq[:10]"
   ]
  },
  {
   "cell_type": "markdown",
   "metadata": {},
   "source": [
    "As expected Lenta.ru news are mostly about Russia and politics. Another very popular theme is the USA of course. <br> \n",
    "Let's take a look at what are 10 most relevant words for a random partucular text.   "
   ]
  },
  {
   "cell_type": "code",
   "execution_count": 24,
   "metadata": {},
   "outputs": [],
   "source": [
    "feature_names = np.array(vec.get_feature_names())"
   ]
  },
  {
   "cell_type": "code",
   "execution_count": 412,
   "metadata": {},
   "outputs": [
    {
     "data": {
      "text/plain": [
       "array(['вагон', 'метро', 'поворот', 'начинаться реализация', 'икарус',\n",
       "       'вид', 'появиться', 'подвижный состав', 'новый',\n",
       "       'мытищинский завод'], dtype='<U37')"
      ]
     },
     "execution_count": 412,
     "metadata": {},
     "output_type": "execute_result"
    }
   ],
   "source": [
    "feature_names[np.argsort(-(bag_of_words[10000].toarray().ravel()))[:10]]"
   ]
  },
  {
   "cell_type": "markdown",
   "metadata": {},
   "source": [
    "The title for this article could be somithing like \"Мытищинский завод выпустит новые вагоны метро\" (\"Mytishchi Machine-Building Plant is releasing new subway cars\"). Let's check!"
   ]
  },
  {
   "cell_type": "code",
   "execution_count": 26,
   "metadata": {},
   "outputs": [
    {
     "data": {
      "text/plain": [
       "'Вагоны московского метро будут складываться гармошкой'"
      ]
     },
     "execution_count": 26,
     "metadata": {},
     "output_type": "execute_result"
    }
   ],
   "source": [
    "df.title[10000] "
   ]
  },
  {
   "cell_type": "markdown",
   "metadata": {},
   "source": [
    "Which means \"Moscow subway cars will be folded like an accordion\". Well, we were close enough!"
   ]
  },
  {
   "cell_type": "markdown",
   "metadata": {},
   "source": [
    "Now let's train a model to classify text to particular topics. There are 23 topics in the dataset which means we have multiclass problem. There are several supervized algorithms we can use to solve this type of problem. We'll try:\n",
    "* Naive Bayes\n",
    "* Linear Support Vector Machine\n",
    "\n",
    "Since we have imbalanced classes we'll use precision, recall and F1 score as metrics to evaluate classifiers output quality.<br> \n",
    "There are over 62K samples with missing values in 'topic' feature. We'll remove them from the dataset because we can't train or estimate the quality without targets. After that we split data to train and test datasets and apply TfidfTransformer to raw text to a matrix of TF-IDF features."
   ]
  },
  {
   "cell_type": "code",
   "execution_count": 9,
   "metadata": {},
   "outputs": [],
   "source": [
    "# undefined topic\n",
    "natopic_idx = df.loc[df['topic'].isna()].index\n",
    "data.drop(natopic_idx, axis=0, inplace = True)\n",
    "df.drop(natopic_idx, axis=0, inplace = True)"
   ]
  },
  {
   "cell_type": "code",
   "execution_count": 20,
   "metadata": {},
   "outputs": [
    {
     "name": "stdout",
     "output_type": "stream",
     "text": [
      "The number of topics is:  23\n"
     ]
    }
   ],
   "source": [
    "print('The number of topics is: ', len(df['topic'].unique()))"
   ]
  },
  {
   "cell_type": "code",
   "execution_count": 11,
   "metadata": {},
   "outputs": [],
   "source": [
    "X_train, X_test, y_train, y_test = train_test_split(data.apply(' '.join), df['topic'], random_state = 5)\n",
    "count_vec = CountVectorizer(ngram_range=(1,2))\n",
    "X_train_count = count_vec.fit_transform(X_train)\n",
    "X_test_count = count_vec.transform(X_test)\n",
    "tfidf = TfidfTransformer()\n",
    "X_train_tfidf = tfidf.fit_transform(X_train_count)\n",
    "X_test_tfidf = tfidf.transform(X_test_count)"
   ]
  },
  {
   "cell_type": "markdown",
   "metadata": {},
   "source": [
    "<b>Naive Bayes Classifier</b>"
   ]
  },
  {
   "cell_type": "code",
   "execution_count": 13,
   "metadata": {},
   "outputs": [
    {
     "name": "stdout",
     "output_type": "stream",
     "text": [
      "CPU times: user 16.9 s, sys: 24.3 s, total: 41.2 s\n",
      "Wall time: 57.6 s\n"
     ]
    }
   ],
   "source": [
    "%%time\n",
    "clf = MultinomialNB().fit(X_train_tfidf, y_train)\n",
    "y_pred = clf.predict(X_test_tfidf)"
   ]
  },
  {
   "cell_type": "code",
   "execution_count": 15,
   "metadata": {},
   "outputs": [
    {
     "name": "stdout",
     "output_type": "stream",
     "text": [
      "Naive Bayes classifier\n",
      " Precision: 0.7416486807261115, Recall: 0.6611490619350229, F1 score: 0.6150456049676254\n"
     ]
    }
   ],
   "source": [
    "prf = precision_recall_fscore_support(y_test, y_pred, average='weighted')\n",
    "print(f'Naive Bayes classifier\\n\\t Precision: {prf[0]}, Recall: {prf[1]}, F1 score: {prf[2]}')"
   ]
  },
  {
   "cell_type": "markdown",
   "metadata": {},
   "source": [
    "<b>Linear Support Vector Machine</b>"
   ]
  },
  {
   "cell_type": "code",
   "execution_count": 11,
   "metadata": {},
   "outputs": [],
   "source": [
    "clf = LinearSVC().fit(X_train_tfidf, y_train)\n",
    "y_pred = clf.predict(X_test_tfidf)"
   ]
  },
  {
   "cell_type": "code",
   "execution_count": 12,
   "metadata": {},
   "outputs": [
    {
     "name": "stdout",
     "output_type": "stream",
     "text": [
      "Linear Support Vector Machine\n",
      "\t Precision: 0.8658727431635238, Recall: 0.8671173853265636, F1 score: 0.8653219405150376\n"
     ]
    },
    {
     "name": "stderr",
     "output_type": "stream",
     "text": [
      "/home/yulits/anaconda3/lib/python3.7/site-packages/sklearn/metrics/_classification.py:1272: UndefinedMetricWarning: Precision and F-score are ill-defined and being set to 0.0 in labels with no predicted samples. Use `zero_division` parameter to control this behavior.\n",
      "  _warn_prf(average, modifier, msg_start, len(result))\n"
     ]
    }
   ],
   "source": [
    "prf = precision_recall_fscore_support(y_test, y_pred, average='weighted')\n",
    "print(f'Linear Support Vector Machine\\n\\t Precision: {prf[0]}, Recall: {prf[1]}, F1 score: {prf[2]}')"
   ]
  },
  {
   "cell_type": "markdown",
   "metadata": {},
   "source": [
    "SVM shows much better result than Naive Bayes: F1 score 0.87 vs 0.62. But it's how the out-of-box models worked.<br> \n",
    "Let's tune the hyperparameters."
   ]
  },
  {
   "cell_type": "code",
   "execution_count": 12,
   "metadata": {},
   "outputs": [
    {
     "name": "stderr",
     "output_type": "stream",
     "text": [
      "/home/yulits/anaconda3/lib/python3.7/site-packages/sklearn/model_selection/_split.py:667: UserWarning: The least populated class in y has only 1 members, which is less than n_splits=3.\n",
      "  % (min_groups, self.n_splits)), UserWarning)\n"
     ]
    },
    {
     "name": "stdout",
     "output_type": "stream",
     "text": [
      "MultinomialNB(alpha=0.0001, class_prior=None, fit_prior=True)\n",
      "0.818026848629199\n"
     ]
    }
   ],
   "source": [
    "param_grid = {'alpha': [1, 0.5, 0.1, 10e-2, 10e-3, 10e-4, 10e-5]}\n",
    "clf = GridSearchCV(MultinomialNB(), param_grid, cv=3, scoring='f1_weighted')\n",
    "clf.fit(X_train_tfidf, y_train)\n",
    "print(clf.best_estimator_) \n",
    "print(clf.best_score_)"
   ]
  },
  {
   "cell_type": "code",
   "execution_count": 13,
   "metadata": {},
   "outputs": [
    {
     "name": "stdout",
     "output_type": "stream",
     "text": [
      "Naive Bayes classifier\n",
      "\t Precision: 0.8346974431630445, Recall: 0.8360091370668283, F1 score: 0.8338307314771222\n"
     ]
    },
    {
     "name": "stderr",
     "output_type": "stream",
     "text": [
      "/home/yulits/anaconda3/lib/python3.7/site-packages/sklearn/metrics/_classification.py:1272: UndefinedMetricWarning: Precision and F-score are ill-defined and being set to 0.0 in labels with no predicted samples. Use `zero_division` parameter to control this behavior.\n",
      "  _warn_prf(average, modifier, msg_start, len(result))\n"
     ]
    }
   ],
   "source": [
    "y_pred = clf.best_estimator_.predict(X_test_tfidf)\n",
    "prf = precision_recall_fscore_support(y_test, y_pred, average='weighted')\n",
    "print(f'Naive Bayes classifier\\n\\t Precision: {prf[0]}, Recall: {prf[1]}, F1 score: {prf[2]}')"
   ]
  },
  {
   "cell_type": "markdown",
   "metadata": {},
   "source": [
    "After tuning Naive Bayes gave us F1 score 0.83. Much better but still worse than Linear SVM.<br><b>Linear SVM with F1 score 0.87 is the winner!</b> Maybe it can give even better result after tuning. BUT actually Naive Bayes is much faster!  "
   ]
  }
 ],
 "metadata": {
  "kernelspec": {
   "display_name": "Python 3",
   "language": "python",
   "name": "python3"
  },
  "language_info": {
   "codemirror_mode": {
    "name": "ipython",
    "version": 3
   },
   "file_extension": ".py",
   "mimetype": "text/x-python",
   "name": "python",
   "nbconvert_exporter": "python",
   "pygments_lexer": "ipython3",
   "version": "3.7.4"
  }
 },
 "nbformat": 4,
 "nbformat_minor": 4
}
